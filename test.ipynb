{
 "cells": [
  {
   "cell_type": "code",
   "execution_count": 1,
   "metadata": {
    "collapsed": true,
    "ExecuteTime": {
     "end_time": "2025-06-05T15:43:59.316092400Z",
     "start_time": "2025-06-05T15:43:59.217375900Z"
    }
   },
   "outputs": [],
   "source": [
    "import numpy as np"
   ]
  },
  {
   "cell_type": "code",
   "execution_count": 2,
   "outputs": [
    {
     "data": {
      "text/plain": "array([1.225, 1.275, 1.325, 1.375, 1.425, 1.475, 1.525, 1.575, 1.625,\n       1.675, 1.725, 1.775])"
     },
     "execution_count": 2,
     "metadata": {},
     "output_type": "execute_result"
    }
   ],
   "source": [
    "quality_score = np.arange(1.225, 1.8, 0.05)\n",
    "quality_score"
   ],
   "metadata": {
    "collapsed": false,
    "ExecuteTime": {
     "end_time": "2025-06-05T15:44:13.909432200Z",
     "start_time": "2025-06-05T15:44:13.895859700Z"
    }
   }
  },
  {
   "cell_type": "code",
   "execution_count": 6,
   "outputs": [
    {
     "name": "stdout",
     "output_type": "stream",
     "text": [
      "[[ 1.5  6.  15.5 13.5 24.5 16.  16.   5.5  1.5  0.   0.   0. ]\n",
      " [ 0.   0.   2.   6.  17.5 19.5 18.5 22.  11.   2.5  1.   0. ]\n",
      " [ 0.   0.   0.5  3.   8.  17.  20.5 21.5 17.  10.   2.5  0. ]\n",
      " [ 0.   0.   1.   1.5 10.5 16.  21.5 21.  16.  10.5  2.   0. ]\n",
      " [ 0.   0.   0.   2.   6.5 16.5 18.5 23.5 17.5 12.   3.5  0. ]\n",
      " [ 0.   0.   0.   1.5  6.  12.5 18.5 20.5 20.  15.5  4.5  1. ]]\n"
     ]
    }
   ],
   "source": [
    "import pandas as pd\n",
    "\n",
    "df = pd.read_csv(\"problems/online_contract_edgeAI/model_perf.csv\", header=None)\n",
    "p = df.iloc[1:, 1:].astype(float).values\n",
    "print(p)"
   ],
   "metadata": {
    "collapsed": false,
    "ExecuteTime": {
     "end_time": "2025-06-05T16:16:03.867028900Z",
     "start_time": "2025-06-05T16:16:03.848900Z"
    }
   }
  },
  {
   "cell_type": "code",
   "execution_count": 7,
   "outputs": [
    {
     "data": {
      "text/plain": "    p0   p1    p2    p3    p4    p5    p6    p7    p8    p9  p10  p11\n0  1.5  6.0  15.5  13.5  24.5  16.0  16.0   5.5   1.5   0.0  0.0  0.0\n1  0.0  0.0   2.0   6.0  17.5  19.5  18.5  22.0  11.0   2.5  1.0  0.0\n2  0.0  0.0   0.5   3.0   8.0  17.0  20.5  21.5  17.0  10.0  2.5  0.0\n3  0.0  0.0   1.0   1.5  10.5  16.0  21.5  21.0  16.0  10.5  2.0  0.0\n4  0.0  0.0   0.0   2.0   6.5  16.5  18.5  23.5  17.5  12.0  3.5  0.0\n5  0.0  0.0   0.0   1.5   6.0  12.5  18.5  20.5  20.0  15.5  4.5  1.0",
      "text/html": "<div>\n<style scoped>\n    .dataframe tbody tr th:only-of-type {\n        vertical-align: middle;\n    }\n\n    .dataframe tbody tr th {\n        vertical-align: top;\n    }\n\n    .dataframe thead th {\n        text-align: right;\n    }\n</style>\n<table border=\"1\" class=\"dataframe\">\n  <thead>\n    <tr style=\"text-align: right;\">\n      <th></th>\n      <th>p0</th>\n      <th>p1</th>\n      <th>p2</th>\n      <th>p3</th>\n      <th>p4</th>\n      <th>p5</th>\n      <th>p6</th>\n      <th>p7</th>\n      <th>p8</th>\n      <th>p9</th>\n      <th>p10</th>\n      <th>p11</th>\n    </tr>\n  </thead>\n  <tbody>\n    <tr>\n      <th>0</th>\n      <td>1.5</td>\n      <td>6.0</td>\n      <td>15.5</td>\n      <td>13.5</td>\n      <td>24.5</td>\n      <td>16.0</td>\n      <td>16.0</td>\n      <td>5.5</td>\n      <td>1.5</td>\n      <td>0.0</td>\n      <td>0.0</td>\n      <td>0.0</td>\n    </tr>\n    <tr>\n      <th>1</th>\n      <td>0.0</td>\n      <td>0.0</td>\n      <td>2.0</td>\n      <td>6.0</td>\n      <td>17.5</td>\n      <td>19.5</td>\n      <td>18.5</td>\n      <td>22.0</td>\n      <td>11.0</td>\n      <td>2.5</td>\n      <td>1.0</td>\n      <td>0.0</td>\n    </tr>\n    <tr>\n      <th>2</th>\n      <td>0.0</td>\n      <td>0.0</td>\n      <td>0.5</td>\n      <td>3.0</td>\n      <td>8.0</td>\n      <td>17.0</td>\n      <td>20.5</td>\n      <td>21.5</td>\n      <td>17.0</td>\n      <td>10.0</td>\n      <td>2.5</td>\n      <td>0.0</td>\n    </tr>\n    <tr>\n      <th>3</th>\n      <td>0.0</td>\n      <td>0.0</td>\n      <td>1.0</td>\n      <td>1.5</td>\n      <td>10.5</td>\n      <td>16.0</td>\n      <td>21.5</td>\n      <td>21.0</td>\n      <td>16.0</td>\n      <td>10.5</td>\n      <td>2.0</td>\n      <td>0.0</td>\n    </tr>\n    <tr>\n      <th>4</th>\n      <td>0.0</td>\n      <td>0.0</td>\n      <td>0.0</td>\n      <td>2.0</td>\n      <td>6.5</td>\n      <td>16.5</td>\n      <td>18.5</td>\n      <td>23.5</td>\n      <td>17.5</td>\n      <td>12.0</td>\n      <td>3.5</td>\n      <td>0.0</td>\n    </tr>\n    <tr>\n      <th>5</th>\n      <td>0.0</td>\n      <td>0.0</td>\n      <td>0.0</td>\n      <td>1.5</td>\n      <td>6.0</td>\n      <td>12.5</td>\n      <td>18.5</td>\n      <td>20.5</td>\n      <td>20.0</td>\n      <td>15.5</td>\n      <td>4.5</td>\n      <td>1.0</td>\n    </tr>\n  </tbody>\n</table>\n</div>"
     },
     "execution_count": 7,
     "metadata": {},
     "output_type": "execute_result"
    }
   ],
   "source": [
    "agent_setting = pd.DataFrame({\n",
    "    **{f\"p{j}\": [row[j] for row in p] for j in range(12)}\n",
    "})\n",
    "agent_setting"
   ],
   "metadata": {
    "collapsed": false,
    "ExecuteTime": {
     "end_time": "2025-06-05T16:29:43.568915300Z",
     "start_time": "2025-06-05T16:29:43.536136400Z"
    }
   }
  },
  {
   "cell_type": "code",
   "execution_count": 8,
   "outputs": [
    {
     "data": {
      "text/plain": "np.int64(45)"
     },
     "execution_count": 8,
     "metadata": {},
     "output_type": "execute_result"
    }
   ],
   "source": [
    "a = np.array([12, 3, 45, 6])\n",
    "c = np.max(a)\n",
    "c"
   ],
   "metadata": {
    "collapsed": false,
    "ExecuteTime": {
     "end_time": "2025-06-05T16:38:51.195446500Z",
     "start_time": "2025-06-05T16:38:51.184340500Z"
    }
   }
  },
  {
   "cell_type": "code",
   "execution_count": 9,
   "outputs": [
    {
     "data": {
      "text/plain": "array([5.46896300e-06, 6.82137110e-06, 3.13180967e-07, 8.28381105e-06,\n       7.29025304e-06, 7.52568696e-06, 3.52615451e-07, 2.29437765e-07,\n       7.07370042e-06, 2.42979387e-06, 5.24359873e-06, 6.38070168e-06])"
     },
     "execution_count": 9,
     "metadata": {},
     "output_type": "execute_result"
    }
   ],
   "source": [
    "c = np.random.uniform(0, 1e-5, 12)\n",
    "c"
   ],
   "metadata": {
    "collapsed": false,
    "ExecuteTime": {
     "end_time": "2025-06-05T16:40:00.900752500Z",
     "start_time": "2025-06-05T16:40:00.890235800Z"
    }
   }
  },
  {
   "cell_type": "code",
   "execution_count": 18,
   "outputs": [
    {
     "name": "stdout",
     "output_type": "stream",
     "text": [
      "3\n"
     ]
    }
   ],
   "source": [
    "print(len(np.linspace(1.2, 1.8, 3)))"
   ],
   "metadata": {
    "collapsed": false,
    "ExecuteTime": {
     "end_time": "2025-06-05T22:57:53.652500700Z",
     "start_time": "2025-06-05T22:57:53.638996500Z"
    }
   }
  },
  {
   "cell_type": "code",
   "execution_count": 19,
   "outputs": [
    {
     "data": {
      "text/plain": "array([5.4689630e-06, 6.8213711e-06])"
     },
     "execution_count": 19,
     "metadata": {},
     "output_type": "execute_result"
    }
   ],
   "source": [
    "c[:2]"
   ],
   "metadata": {
    "collapsed": false,
    "ExecuteTime": {
     "end_time": "2025-06-05T23:21:54.774540500Z",
     "start_time": "2025-06-05T23:21:54.753150900Z"
    }
   }
  },
  {
   "cell_type": "code",
   "execution_count": null,
   "outputs": [],
   "source": [],
   "metadata": {
    "collapsed": false
   }
  }
 ],
 "metadata": {
  "kernelspec": {
   "display_name": "Python 3",
   "language": "python",
   "name": "python3"
  },
  "language_info": {
   "codemirror_mode": {
    "name": "ipython",
    "version": 2
   },
   "file_extension": ".py",
   "mimetype": "text/x-python",
   "name": "python",
   "nbconvert_exporter": "python",
   "pygments_lexer": "ipython2",
   "version": "2.7.6"
  }
 },
 "nbformat": 4,
 "nbformat_minor": 0
}
